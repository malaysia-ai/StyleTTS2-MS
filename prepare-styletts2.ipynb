{
 "cells": [
  {
   "cell_type": "code",
   "execution_count": 1,
   "id": "3e9dac64",
   "metadata": {},
   "outputs": [],
   "source": [
    "import json\n",
    "import re\n",
    "import string\n",
    "\n",
    "_pad = 'pad'\n",
    "_start = 'start'\n",
    "_eos = 'eos'\n",
    "_punctuation = \"!'(),.:;? \"\n",
    "_special = '-'\n",
    "_letters = 'ABCDEFGHIJKLMNOPQRSTUVWXYZabcdefghijklmnopqrstuvwxyz'\n",
    "\n",
    "MALAYA_SPEECH_SYMBOLS = (\n",
    "    [_pad, _start, _eos] + list(_special) + list(_punctuation) + list(_letters)\n",
    ")\n",
    "vocab = {no: c for no, c in enumerate(MALAYA_SPEECH_SYMBOLS)}\n",
    "\n",
    "files = [\n",
    "    '/home/husein/ssd3/tts/multispeaker-clean-vits-husein-chatbot.json',\n",
    "    '/home/husein/ssd3/tts/multispeaker-clean-vits-shafiqah-idayu-chatbot.json',\n",
    "    '/home/husein/ssd3/tts/multispeaker-clean-vits-anwar-ibrahim.json'\n",
    "]"
   ]
  },
  {
   "cell_type": "code",
   "execution_count": 2,
   "id": "5c561533",
   "metadata": {},
   "outputs": [],
   "source": [
    "import phonemizer\n",
    "\n",
    "global_phonemizer = phonemizer.backend.EspeakBackend(language='ms', preserve_punctuation=True,  with_stress=True)"
   ]
  },
  {
   "cell_type": "code",
   "execution_count": 3,
   "id": "fcbcd6fe",
   "metadata": {},
   "outputs": [
    {
     "name": "stderr",
     "output_type": "stream",
     "text": [
      "100%|███████████████████████████████████████████████████████████████████████████████| 127137/127137 [00:33<00:00, 3828.71it/s]\n",
      "100%|███████████████████████████████████████████████████████████████████████████████| 141475/141475 [00:35<00:00, 3957.03it/s]\n",
      "100%|███████████████████████████████████████████████████████████████████████████████| 106014/106014 [00:26<00:00, 3944.16it/s]\n"
     ]
    },
    {
     "data": {
      "text/plain": [
       "374626"
      ]
     },
     "execution_count": 3,
     "metadata": {},
     "output_type": "execute_result"
    }
   ],
   "source": [
    "from tqdm import tqdm\n",
    "\n",
    "\"\"\"\n",
    "LJSpeech-1.1/wavs/LJ022-0023.wav|ðɪ ˌoʊvɚwˈɛlmɪŋ mədʒˈɔːɹᵻɾi ʌv pˈiːpəl ɪn ðɪs kˈʌntɹi nˈoʊ hˌaʊ tə sˈɪft ðə wˈiːt fɹʌmðə tʃˈæf ɪn wʌt ðeɪ hˈɪɹ ænd wʌt ðeɪ ɹˈiːd .|0\n",
    "\"\"\"\n",
    "\n",
    "texts = []\n",
    "for no, f in enumerate(files):\n",
    "    speaker = f.split('vits-')[-1].replace('.json', '')\n",
    "    with open(f) as fopen:\n",
    "        d = json.load(fopen)\n",
    "        for d_ in tqdm(d):\n",
    "            t = ''.join([vocab[i] for i in d_[-1][:-1]]).split()\n",
    "            phonemes = [global_phonemizer.phonemize([word], strip=True)[0] if word not in string.punctuation else word for word in t]\n",
    "            phonemes = ' '.join(phonemes)\n",
    "            texts.append(f'{d_[0]}|{phonemes}|{no}')\n",
    "            \n",
    "len(texts)"
   ]
  },
  {
   "cell_type": "code",
   "execution_count": 4,
   "id": "4cbe257c",
   "metadata": {},
   "outputs": [],
   "source": [
    "with open('train_list.txt', 'w') as fopen:\n",
    "    fopen.write('\\n'.join(texts))"
   ]
  },
  {
   "cell_type": "code",
   "execution_count": 5,
   "id": "fe8e38d9",
   "metadata": {},
   "outputs": [
    {
     "name": "stderr",
     "output_type": "stream",
     "text": [
      "100%|███████████████████████████████████████████████████████████████████████████████████████| 30/30 [00:00<00:00, 3249.97it/s]\n",
      "100%|███████████████████████████████████████████████████████████████████████████████████████| 30/30 [00:00<00:00, 4043.61it/s]\n",
      "100%|███████████████████████████████████████████████████████████████████████████████████████| 30/30 [00:00<00:00, 4292.75it/s]\n"
     ]
    },
    {
     "data": {
      "text/plain": [
       "90"
      ]
     },
     "execution_count": 5,
     "metadata": {},
     "output_type": "execute_result"
    }
   ],
   "source": [
    "import random\n",
    "\n",
    "texts = []\n",
    "for no, f in enumerate(files):\n",
    "    speaker = f.split('vits-')[-1].replace('.json', '')\n",
    "    with open(f) as fopen:\n",
    "        d = json.load(fopen)\n",
    "        d = random.sample(d, 30)\n",
    "        for d_ in tqdm(d):\n",
    "            t = ''.join([vocab[i] for i in d_[-1][:-1]]).split()\n",
    "            phonemes = [global_phonemizer.phonemize([word], strip=True)[0] if word not in string.punctuation else word for word in t]\n",
    "            phonemes = ' '.join(phonemes)\n",
    "            texts.append(f'{d_[0]}|{phonemes}|{no}')\n",
    "            \n",
    "len(texts)"
   ]
  },
  {
   "cell_type": "code",
   "execution_count": 6,
   "id": "f772643d",
   "metadata": {},
   "outputs": [],
   "source": [
    "with open('val_list.txt', 'w') as fopen:\n",
    "    fopen.write('\\n'.join(texts))"
   ]
  }
 ],
 "metadata": {
  "kernelspec": {
   "display_name": "python3.10",
   "language": "python",
   "name": "python3.10"
  },
  "language_info": {
   "codemirror_mode": {
    "name": "ipython",
    "version": 3
   },
   "file_extension": ".py",
   "mimetype": "text/x-python",
   "name": "python",
   "nbconvert_exporter": "python",
   "pygments_lexer": "ipython3",
   "version": "3.10.15"
  }
 },
 "nbformat": 4,
 "nbformat_minor": 5
}
