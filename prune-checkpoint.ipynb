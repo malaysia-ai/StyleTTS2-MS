{
 "cells": [
  {
   "cell_type": "code",
   "execution_count": 5,
   "id": "b989d555",
   "metadata": {},
   "outputs": [],
   "source": [
    "import torch"
   ]
  },
  {
   "cell_type": "code",
   "execution_count": 6,
   "id": "1d853da6",
   "metadata": {},
   "outputs": [],
   "source": [
    "# !wget https://github.com/yl4579/StyleTTS2/raw/refs/heads/main/Utils/PLBERT/step_1000000.t7\n",
    "# !wget https://huggingface.co/mesolitica/PL-BERT-MS/resolve/main/step_130000.t7"
   ]
  },
  {
   "cell_type": "code",
   "execution_count": 3,
   "id": "f6a7d301",
   "metadata": {},
   "outputs": [],
   "source": [
    "c = torch.load('step_1000000.t7', map_location='cpu')"
   ]
  },
  {
   "cell_type": "code",
   "execution_count": 5,
   "id": "adf8aba2",
   "metadata": {},
   "outputs": [
    {
     "data": {
      "text/plain": [
       "dict_keys(['net', 'step'])"
      ]
     },
     "execution_count": 5,
     "metadata": {},
     "output_type": "execute_result"
    }
   ],
   "source": [
    "c.keys()"
   ]
  },
  {
   "cell_type": "code",
   "execution_count": 7,
   "id": "3aa9d81e",
   "metadata": {},
   "outputs": [
    {
     "name": "stdout",
     "output_type": "stream",
     "text": [
      "module.encoder.embeddings.position_ids torch.Size([1, 512])\n",
      "module.encoder.embeddings.word_embeddings.weight torch.Size([178, 128])\n",
      "module.encoder.embeddings.position_embeddings.weight torch.Size([512, 128])\n",
      "module.encoder.embeddings.token_type_embeddings.weight torch.Size([2, 128])\n",
      "module.encoder.embeddings.LayerNorm.weight torch.Size([128])\n",
      "module.encoder.embeddings.LayerNorm.bias torch.Size([128])\n",
      "module.encoder.encoder.embedding_hidden_mapping_in.weight torch.Size([768, 128])\n",
      "module.encoder.encoder.embedding_hidden_mapping_in.bias torch.Size([768])\n",
      "module.encoder.encoder.albert_layer_groups.0.albert_layers.0.full_layer_layer_norm.weight torch.Size([768])\n",
      "module.encoder.encoder.albert_layer_groups.0.albert_layers.0.full_layer_layer_norm.bias torch.Size([768])\n",
      "module.encoder.encoder.albert_layer_groups.0.albert_layers.0.attention.query.weight torch.Size([768, 768])\n",
      "module.encoder.encoder.albert_layer_groups.0.albert_layers.0.attention.query.bias torch.Size([768])\n",
      "module.encoder.encoder.albert_layer_groups.0.albert_layers.0.attention.key.weight torch.Size([768, 768])\n",
      "module.encoder.encoder.albert_layer_groups.0.albert_layers.0.attention.key.bias torch.Size([768])\n",
      "module.encoder.encoder.albert_layer_groups.0.albert_layers.0.attention.value.weight torch.Size([768, 768])\n",
      "module.encoder.encoder.albert_layer_groups.0.albert_layers.0.attention.value.bias torch.Size([768])\n",
      "module.encoder.encoder.albert_layer_groups.0.albert_layers.0.attention.dense.weight torch.Size([768, 768])\n",
      "module.encoder.encoder.albert_layer_groups.0.albert_layers.0.attention.dense.bias torch.Size([768])\n",
      "module.encoder.encoder.albert_layer_groups.0.albert_layers.0.attention.LayerNorm.weight torch.Size([768])\n",
      "module.encoder.encoder.albert_layer_groups.0.albert_layers.0.attention.LayerNorm.bias torch.Size([768])\n",
      "module.encoder.encoder.albert_layer_groups.0.albert_layers.0.ffn.weight torch.Size([2048, 768])\n",
      "module.encoder.encoder.albert_layer_groups.0.albert_layers.0.ffn.bias torch.Size([2048])\n",
      "module.encoder.encoder.albert_layer_groups.0.albert_layers.0.ffn_output.weight torch.Size([768, 2048])\n",
      "module.encoder.encoder.albert_layer_groups.0.albert_layers.0.ffn_output.bias torch.Size([768])\n",
      "module.encoder.pooler.weight torch.Size([768, 768])\n",
      "module.encoder.pooler.bias torch.Size([768])\n"
     ]
    }
   ],
   "source": [
    "for k, v in c['net'].items():\n",
    "    print(k, v.shape)"
   ]
  },
  {
   "cell_type": "code",
   "execution_count": 7,
   "id": "9b665d33",
   "metadata": {},
   "outputs": [],
   "source": [
    "c = torch.load('step_130000.t7', map_location='cpu')"
   ]
  },
  {
   "cell_type": "code",
   "execution_count": 8,
   "id": "43babc71",
   "metadata": {},
   "outputs": [],
   "source": [
    "_ = c.pop('optimizer', None)"
   ]
  },
  {
   "cell_type": "code",
   "execution_count": 9,
   "id": "8dae9dd2",
   "metadata": {},
   "outputs": [],
   "source": [
    "for k in list(c['net'].keys()):\n",
    "    if '_predictor' in k:\n",
    "        _ = c['net'].pop(k)"
   ]
  },
  {
   "cell_type": "code",
   "execution_count": 10,
   "id": "04d9d238",
   "metadata": {
    "scrolled": true
   },
   "outputs": [
    {
     "name": "stdout",
     "output_type": "stream",
     "text": [
      "module.encoder.embeddings.word_embeddings.weight torch.Size([178, 128])\n",
      "module.encoder.embeddings.position_embeddings.weight torch.Size([512, 128])\n",
      "module.encoder.embeddings.token_type_embeddings.weight torch.Size([2, 128])\n",
      "module.encoder.embeddings.LayerNorm.weight torch.Size([128])\n",
      "module.encoder.embeddings.LayerNorm.bias torch.Size([128])\n",
      "module.encoder.encoder.embedding_hidden_mapping_in.weight torch.Size([768, 128])\n",
      "module.encoder.encoder.embedding_hidden_mapping_in.bias torch.Size([768])\n",
      "module.encoder.encoder.albert_layer_groups.0.albert_layers.0.full_layer_layer_norm.weight torch.Size([768])\n",
      "module.encoder.encoder.albert_layer_groups.0.albert_layers.0.full_layer_layer_norm.bias torch.Size([768])\n",
      "module.encoder.encoder.albert_layer_groups.0.albert_layers.0.attention.query.weight torch.Size([768, 768])\n",
      "module.encoder.encoder.albert_layer_groups.0.albert_layers.0.attention.query.bias torch.Size([768])\n",
      "module.encoder.encoder.albert_layer_groups.0.albert_layers.0.attention.key.weight torch.Size([768, 768])\n",
      "module.encoder.encoder.albert_layer_groups.0.albert_layers.0.attention.key.bias torch.Size([768])\n",
      "module.encoder.encoder.albert_layer_groups.0.albert_layers.0.attention.value.weight torch.Size([768, 768])\n",
      "module.encoder.encoder.albert_layer_groups.0.albert_layers.0.attention.value.bias torch.Size([768])\n",
      "module.encoder.encoder.albert_layer_groups.0.albert_layers.0.attention.dense.weight torch.Size([768, 768])\n",
      "module.encoder.encoder.albert_layer_groups.0.albert_layers.0.attention.dense.bias torch.Size([768])\n",
      "module.encoder.encoder.albert_layer_groups.0.albert_layers.0.attention.LayerNorm.weight torch.Size([768])\n",
      "module.encoder.encoder.albert_layer_groups.0.albert_layers.0.attention.LayerNorm.bias torch.Size([768])\n",
      "module.encoder.encoder.albert_layer_groups.0.albert_layers.0.ffn.weight torch.Size([2048, 768])\n",
      "module.encoder.encoder.albert_layer_groups.0.albert_layers.0.ffn.bias torch.Size([2048])\n",
      "module.encoder.encoder.albert_layer_groups.0.albert_layers.0.ffn_output.weight torch.Size([768, 2048])\n",
      "module.encoder.encoder.albert_layer_groups.0.albert_layers.0.ffn_output.bias torch.Size([768])\n",
      "module.encoder.pooler.weight torch.Size([768, 768])\n",
      "module.encoder.pooler.bias torch.Size([768])\n"
     ]
    }
   ],
   "source": [
    "for k, v in c['net'].items():\n",
    "    print(k, v.shape)"
   ]
  },
  {
   "cell_type": "code",
   "execution_count": 11,
   "id": "d332fb4b",
   "metadata": {},
   "outputs": [],
   "source": [
    "torch.save(c, 'Utils/PLBERT/step_130000.t7')"
   ]
  },
  {
   "cell_type": "code",
   "execution_count": 12,
   "id": "aa3206e5",
   "metadata": {},
   "outputs": [
    {
     "name": "stdout",
     "output_type": "stream",
     "text": [
      "-rw-rw-r-- 1 husein husein 25M Jan  26 19:38 Utils/PLBERT/step_130000.t7\r\n"
     ]
    }
   ],
   "source": [
    "!ls -lh Utils/PLBERT/step_130000.t7"
   ]
  },
  {
   "cell_type": "code",
   "execution_count": 4,
   "id": "96daf726",
   "metadata": {},
   "outputs": [
    {
     "name": "stdout",
     "output_type": "stream",
     "text": [
      "--2025-01-26 19:34:47--  https://huggingface.co/mesolitica/AuxiliaryASR-CTC-S2S/resolve/main/epoch_00020.pth\n",
      "Resolving huggingface.co (huggingface.co)... 13.249.213.24, 13.249.213.119, 13.249.213.17, ...\n",
      "Connecting to huggingface.co (huggingface.co)|13.249.213.24|:443... connected.\n",
      "HTTP request sent, awaiting response... 302 Found\n",
      "Location: https://cdn-lfs-us-1.hf.co/repos/31/f6/31f698b5cb0e098cb047056ef09bb937bea90164c7ec6ad282ab3097df5b6810/e93bc3a39762fa1970364dd293f439e5154201f0251fbb64e7dd108807abfa91?response-content-disposition=inline%3B+filename*%3DUTF-8%27%27epoch_00020.pth%3B+filename%3D%22epoch_00020.pth%22%3B&Expires=1737894888&Policy=eyJTdGF0ZW1lbnQiOlt7IkNvbmRpdGlvbiI6eyJEYXRlTGVzc1RoYW4iOnsiQVdTOkVwb2NoVGltZSI6MTczNzg5NDg4OH19LCJSZXNvdXJjZSI6Imh0dHBzOi8vY2RuLWxmcy11cy0xLmhmLmNvL3JlcG9zLzMxL2Y2LzMxZjY5OGI1Y2IwZTA5OGNiMDQ3MDU2ZWYwOWJiOTM3YmVhOTAxNjRjN2VjNmFkMjgyYWIzMDk3ZGY1YjY4MTAvZTkzYmMzYTM5NzYyZmExOTcwMzY0ZGQyOTNmNDM5ZTUxNTQyMDFmMDI1MWZiYjY0ZTdkZDEwODgwN2FiZmE5MT9yZXNwb25zZS1jb250ZW50LWRpc3Bvc2l0aW9uPSoifV19&Signature=AgDqiuUylrOThX45l2QVAzLMPsTOcVnF-oXcYi4Gim2amHZiMNfTB8arwkEXd7tQp8sfHgMHmbkEeMDuwE%7EJbT-x7Cf7KUuBG4xMFRK-q6Sz-WHFLAE8755v89bLoRCzIn85g23IqyVZcHdg1oBuxtX3OCS45lsPfOrSovXaDV8ipuTer%7EpMtfQT4sztB2JZPlKzfLJCjSyUSDQirthDVukljdxXBIsKAePBLgsIkEuC-pXQgwSQRdKJdE3fNjDO16onosFOyttUfOg4eqz9hrSZC6nJds%7E6qwzQhWxjlx4T8uTboMTGmHiKHNOFTqGv0d7JxbzIXp7YTA%7EZxRMxpA__&Key-Pair-Id=K24J24Z295AEI9 [following]\n",
      "--2025-01-26 19:34:48--  https://cdn-lfs-us-1.hf.co/repos/31/f6/31f698b5cb0e098cb047056ef09bb937bea90164c7ec6ad282ab3097df5b6810/e93bc3a39762fa1970364dd293f439e5154201f0251fbb64e7dd108807abfa91?response-content-disposition=inline%3B+filename*%3DUTF-8%27%27epoch_00020.pth%3B+filename%3D%22epoch_00020.pth%22%3B&Expires=1737894888&Policy=eyJTdGF0ZW1lbnQiOlt7IkNvbmRpdGlvbiI6eyJEYXRlTGVzc1RoYW4iOnsiQVdTOkVwb2NoVGltZSI6MTczNzg5NDg4OH19LCJSZXNvdXJjZSI6Imh0dHBzOi8vY2RuLWxmcy11cy0xLmhmLmNvL3JlcG9zLzMxL2Y2LzMxZjY5OGI1Y2IwZTA5OGNiMDQ3MDU2ZWYwOWJiOTM3YmVhOTAxNjRjN2VjNmFkMjgyYWIzMDk3ZGY1YjY4MTAvZTkzYmMzYTM5NzYyZmExOTcwMzY0ZGQyOTNmNDM5ZTUxNTQyMDFmMDI1MWZiYjY0ZTdkZDEwODgwN2FiZmE5MT9yZXNwb25zZS1jb250ZW50LWRpc3Bvc2l0aW9uPSoifV19&Signature=AgDqiuUylrOThX45l2QVAzLMPsTOcVnF-oXcYi4Gim2amHZiMNfTB8arwkEXd7tQp8sfHgMHmbkEeMDuwE%7EJbT-x7Cf7KUuBG4xMFRK-q6Sz-WHFLAE8755v89bLoRCzIn85g23IqyVZcHdg1oBuxtX3OCS45lsPfOrSovXaDV8ipuTer%7EpMtfQT4sztB2JZPlKzfLJCjSyUSDQirthDVukljdxXBIsKAePBLgsIkEuC-pXQgwSQRdKJdE3fNjDO16onosFOyttUfOg4eqz9hrSZC6nJds%7E6qwzQhWxjlx4T8uTboMTGmHiKHNOFTqGv0d7JxbzIXp7YTA%7EZxRMxpA__&Key-Pair-Id=K24J24Z295AEI9\n",
      "Resolving cdn-lfs-us-1.hf.co (cdn-lfs-us-1.hf.co)... 18.161.180.128, 18.161.180.107, 18.161.180.53, ...\n",
      "Connecting to cdn-lfs-us-1.hf.co (cdn-lfs-us-1.hf.co)|18.161.180.128|:443... connected.\n",
      "HTTP request sent, awaiting response... 200 OK\n",
      "Length: 92453364 (88M) [binary/octet-stream]\n",
      "Saving to: ‘Utils/ASR/epoch_00020.pth’\n",
      "\n",
      "Utils/ASR/epoch_000 100%[===================>]  88.17M  26.1MB/s    in 3.7s    \n",
      "\n",
      "2025-01-26 19:34:51 (24.1 MB/s) - ‘Utils/ASR/epoch_00020.pth’ saved [92453364/92453364]\n",
      "\n"
     ]
    }
   ],
   "source": [
    "!wget https://huggingface.co/mesolitica/AuxiliaryASR-CTC-S2S/resolve/main/epoch_00020.pth -O Utils/ASR/epoch_00020.pth"
   ]
  },
  {
   "cell_type": "code",
   "execution_count": 14,
   "id": "34fce6cd",
   "metadata": {},
   "outputs": [],
   "source": [
    "!rm *.t7"
   ]
  },
  {
   "cell_type": "code",
   "execution_count": null,
   "id": "71e2c07c",
   "metadata": {},
   "outputs": [],
   "source": []
  }
 ],
 "metadata": {
  "kernelspec": {
   "display_name": "python3.10",
   "language": "python",
   "name": "python3.10"
  },
  "language_info": {
   "codemirror_mode": {
    "name": "ipython",
    "version": 3
   },
   "file_extension": ".py",
   "mimetype": "text/x-python",
   "name": "python",
   "nbconvert_exporter": "python",
   "pygments_lexer": "ipython3",
   "version": "3.10.15"
  }
 },
 "nbformat": 4,
 "nbformat_minor": 5
}
